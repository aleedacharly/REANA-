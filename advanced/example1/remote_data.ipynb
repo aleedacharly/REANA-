{
 "cells": [
  {
   "cell_type": "code",
   "execution_count": null,
   "id": "ff4b56e9",
   "metadata": {},
   "outputs": [],
   "source": [
    "# Before starting to use the notebook, run:\n",
    "# !pip install astropy pandas"
   ]
  },
  {
   "cell_type": "code",
   "execution_count": null,
   "id": "beda3d84",
   "metadata": {},
   "outputs": [],
   "source": [
    "from io import StringIO\n",
    "import requests\n",
    "\n",
    "import numpy as np\n",
    "import pandas as pd\n",
    "import matplotlib.pyplot as plt\n",
    "from astropy.coordinates import SkyCoord\n",
    "from astropy import units as u"
   ]
  },
  {
   "cell_type": "markdown",
   "id": "952da6a4",
   "metadata": {},
   "source": [
    "## Load remote public data\n",
    "First 10 files from StarHorse DB  \n",
    "See also: https://data.aip.de/projects/starhorse2021.html"
   ]
  },
  {
   "cell_type": "code",
   "execution_count": null,
   "id": "51411e46",
   "metadata": {},
   "outputs": [],
   "source": [
    "filelist = []\n",
    "for n in range(10):\n",
    "    remote_data = f\"https://s3.data.aip.de:9000/sh21pdf/gaiaedr3_sh_input_healpixlevel5_hpno-00000{str(n)}.fits.hdf5.txt\"\n",
    "    filelist.append(remote_data)"
   ]
  },
  {
   "cell_type": "code",
   "execution_count": null,
   "id": "8df3de64",
   "metadata": {},
   "outputs": [],
   "source": [
    "filelist"
   ]
  },
  {
   "cell_type": "code",
   "execution_count": null,
   "id": "78f7d43d",
   "metadata": {},
   "outputs": [],
   "source": [
    "# Create big pandas dataframe\n",
    "df_list = [pd.read_csv(StringIO(requests.get(file).content.decode('utf-8')),delimiter=\"\\s+\",\n",
    "          dtype={'#ID': 'int64'}).rename(columns={\"#ID\": \"ID\"}) for file in filelist]\n",
    "dfsh = pd.concat(df_list)"
   ]
  },
  {
   "cell_type": "code",
   "execution_count": null,
   "id": "aaea3b8e",
   "metadata": {},
   "outputs": [],
   "source": [
    "dfsh"
   ]
  },
  {
   "cell_type": "code",
   "execution_count": null,
   "id": "d2b62523",
   "metadata": {},
   "outputs": [],
   "source": [
    "dfsh.columns"
   ]
  },
  {
   "cell_type": "code",
   "execution_count": null,
   "id": "e65f76e8",
   "metadata": {},
   "outputs": [],
   "source": [
    "# Read coordinate columns in astropy framework\n",
    "coords = SkyCoord(l=dfsh.glon.values, b=dfsh.glat.values, unit='degree', frame='galactic')"
   ]
  },
  {
   "cell_type": "markdown",
   "id": "34c72e01",
   "metadata": {},
   "source": [
    "## Make a galactic plot in aitoff projection"
   ]
  },
  {
   "cell_type": "code",
   "execution_count": null,
   "id": "a893241e",
   "metadata": {},
   "outputs": [],
   "source": [
    "fig = plt.figure(figsize=(10, 5))\n",
    "ax = fig.add_subplot(111, projection='aitoff')\n",
    "\n",
    "l = coords.l.wrap_at(180*u.deg).radian\n",
    "b = coords.b.radian\n",
    "\n",
    "ax.hexbin(l, b, cmap=plt.cm.viridis, bins='log', gridsize = 200, mincnt=0)\n",
    "# ax.plot(l, b, 'o', markersize=3, alpha=0.7)\n",
    "\n",
    "ax.set_xlabel('$\\mathscr{l}$', fontsize=20)\n",
    "ax.set_ylabel('$\\mathscr{b}$', fontsize=20)\n",
    "ax.grid(True)\n",
    "\n",
    "fig.tight_layout()\n",
    "plt.savefig(output_file, format='png', dpi=150)"
   ]
  },
  {
   "cell_type": "code",
   "execution_count": null,
   "id": "edcabc74",
   "metadata": {},
   "outputs": [],
   "source": []
  }
 ],
 "metadata": {
  "kernelspec": {
   "display_name": "Python 3",
   "language": "python",
   "name": "python3"
  },
  "language_info": {
   "codemirror_mode": {
    "name": "ipython",
    "version": 3
   },
   "file_extension": ".py",
   "mimetype": "text/x-python",
   "name": "python",
   "nbconvert_exporter": "python",
   "pygments_lexer": "ipython3",
   "version": "3.6.13"
  }
 },
 "nbformat": 4,
 "nbformat_minor": 5
}
