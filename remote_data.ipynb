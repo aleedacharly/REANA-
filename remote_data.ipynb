{
 "cells": [
  {
   "cell_type": "code",
   "execution_count": null,
   "id": "71e4b82c",
   "metadata": {},
   "outputs": [],
   "source": [
    "# Before starting to use the notebook, run:\n",
    "# !pip install astropy pandas"
   ]
  },
  {
   "cell_type": "code",
   "execution_count": null,
   "id": "cae751dc",
   "metadata": {},
   "outputs": [],
   "source": [
    "from io import StringIO\n",
    "import requests\n",
    "\n",
    "import numpy as np\n",
    "import pandas as pd\n",
    "import matplotlib.pyplot as plt\n",
    "from astropy.coordinates import SkyCoord\n",
    "from astropy import units as u"
   ]
  },
  {
   "cell_type": "code",
   "execution_count": null,
   "id": "63f08e94",
   "metadata": {
    "tags": [
     "parameters"
    ]
   },
   "outputs": [],
   "source": [
    "output_file = 'plot.png'"
   ]
  },
  {
   "cell_type": "markdown",
   "id": "e77d44de",
   "metadata": {},
   "source": [
    "## Load remote public data\n",
    "First 10 files from StarHorse DB  \n",
    "See also: https://data.aip.de/projects/starhorse2021.html"
   ]
  },
  {
   "cell_type": "code",
   "execution_count": null,
   "id": "81ce8348",
   "metadata": {},
   "outputs": [],
   "source": [
    "filelist = []\n",
    "for n in range(10):\n",
    "    remote_data = f\"https://s3.data.aip.de:9000/sh21pdf/gaiaedr3_sh_input_healpixlevel5_hpno-00000{str(n)}.fits.hdf5.txt\"\n",
    "    filelist.append(remote_data)"
   ]
  },
  {
   "cell_type": "code",
   "execution_count": null,
   "id": "fe9cff84",
   "metadata": {},
   "outputs": [],
   "source": [
    "filelist"
   ]
  },
  {
   "cell_type": "code",
   "execution_count": null,
   "id": "03985dc9",
   "metadata": {},
   "outputs": [],
   "source": [
    "# Create big pandas dataframe\n",
    "df_list = [pd.read_csv(StringIO(requests.get(file).content.decode('utf-8')),delimiter=\"\\s+\",\n",
    "          dtype={'#ID': 'int64'}).rename(columns={\"#ID\": \"ID\"}) for file in filelist]\n",
    "dfsh = pd.concat(df_list)"
   ]
  },
  {
   "cell_type": "code",
   "execution_count": null,
   "id": "71e95139",
   "metadata": {},
   "outputs": [],
   "source": [
    "dfsh"
   ]
  },
  {
   "cell_type": "code",
   "execution_count": null,
   "id": "691e7913",
   "metadata": {},
   "outputs": [],
   "source": [
    "dfsh.columns"
   ]
  },
  {
   "cell_type": "code",
   "execution_count": null,
   "id": "e673e107",
   "metadata": {},
   "outputs": [],
   "source": [
    "# Read coordinate columns in astropy framework\n",
    "coords = SkyCoord(l=dfsh.glon.values, b=dfsh.glat.values, unit='degree', frame='galactic')"
   ]
  },
  {
   "cell_type": "markdown",
   "id": "23d83d3c",
   "metadata": {},
   "source": [
    "## Make a galactic plot in aitoff projection"
   ]
  },
  {
   "cell_type": "code",
   "execution_count": null,
   "id": "9b996b5f",
   "metadata": {},
   "outputs": [],
   "source": [
    "fig = plt.figure(figsize=(10, 5))\n",
    "ax = fig.add_subplot(111, projection='aitoff')\n",
    "\n",
    "l = coords.l.wrap_at(180*u.deg).radian\n",
    "b = coords.b.radian\n",
    "\n",
    "ax.hexbin(l, b, cmap=plt.cm.viridis, bins='log', gridsize = 200, mincnt=0)\n",
    "# ax.plot(l, b, 'o', markersize=3, alpha=0.7)\n",
    "\n",
    "ax.set_xlabel('$\\mathscr{l}$', fontsize=20)\n",
    "ax.set_ylabel('$\\mathscr{b}$', fontsize=20)\n",
    "ax.grid(True)\n",
    "\n",
    "fig.tight_layout()\n",
    "plt.savefig(output_file, format='png', dpi=150)"
   ]
  },
  {
   "cell_type": "code",
   "execution_count": null,
   "id": "00bbcb17",
   "metadata": {},
   "outputs": [],
   "source": []
  }
 ],
 "metadata": {
  "celltoolbar": "Tags",
  "kernelspec": {
   "display_name": "Python 3",
   "language": "python",
   "name": "python3"
  },
  "language_info": {
   "codemirror_mode": {
    "name": "ipython",
    "version": 3
   },
   "file_extension": ".py",
   "mimetype": "text/x-python",
   "name": "python",
   "nbconvert_exporter": "python",
   "pygments_lexer": "ipython3",
   "version": "3.6.13"
  }
 },
 "nbformat": 4,
 "nbformat_minor": 5
}
